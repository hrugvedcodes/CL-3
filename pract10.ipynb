{
 "cells": [
  {
   "cell_type": "code",
   "execution_count": 1,
   "id": "d12e5f6d",
   "metadata": {},
   "outputs": [
    {
     "name": "stdout",
     "output_type": "stream",
     "text": [
      "Defaulting to user installation because normal site-packages is not writeable\n",
      "Collecting mrjob\n",
      "  Downloading mrjob-0.7.4-py2.py3-none-any.whl.metadata (7.3 kB)\n",
      "Requirement already satisfied: PyYAML>=3.10 in c:\\users\\intel\\appdata\\roaming\\python\\python312\\site-packages (from mrjob) (6.0.2)\n",
      "Downloading mrjob-0.7.4-py2.py3-none-any.whl (439 kB)\n",
      "Installing collected packages: mrjob\n",
      "Successfully installed mrjob-0.7.4\n",
      "Note: you may need to restart the kernel to use updated packages.\n"
     ]
    },
    {
     "name": "stderr",
     "output_type": "stream",
     "text": [
      "\n",
      "[notice] A new release of pip is available: 24.2 -> 25.1.1\n",
      "[notice] To update, run: python.exe -m pip install --upgrade pip\n"
     ]
    }
   ],
   "source": [
    "pip install mrjob"
   ]
  },
  {
   "cell_type": "code",
   "execution_count": 29,
   "id": "2a452ccb",
   "metadata": {},
   "outputs": [
    {
     "name": "stdout",
     "output_type": "stream",
     "text": [
      "Index(['Location', 'Date_Time', 'Temperature_C', 'Humidity_pct',\n",
      "       'Precipitation_mm', 'Wind_Speed_kmh'],\n",
      "      dtype='object')\n",
      "Coolest Year: 2024.0 with Min Temp: -19.96931109358452°C\n",
      "Hottest Year: 2024.0 with Max Temp: 39.99980055990208°C\n"
     ]
    }
   ],
   "source": [
    "import pandas as pd\n",
    "from collections import defaultdict\n",
    "\n",
    "# Load dataset\n",
    "df = pd.read_csv('weather_data.csv')\n",
    "\n",
    "# Print columns to debug\n",
    "print(df.columns)\n",
    "\n",
    "# Ensure no leading/trailing spaces in column names\n",
    "df.columns = df.columns.str.strip()\n",
    "\n",
    "# Extract year and temperature\n",
    "df['Year'] = pd.to_datetime(df['Date_Time']).dt.year\n",
    "df['Temperature'] = df['Temperature_C'].astype(float)\n",
    "\n",
    "# Mapper: Emit (year, temperature)\n",
    "mapped_data = df[['Year', 'Temperature']].values\n",
    "\n",
    "# Reducer: Aggregate by year and compute average temperature\n",
    "yearly_temps = defaultdict(list)\n",
    "for year, temp in mapped_data:\n",
    "    yearly_temps[year].append(temp)\n",
    "\n",
    "avg_temps = {year: sum(temps)/len(temps) for year, temps in yearly_temps.items()}\n",
    "\n",
    "# Find hottest and coolest years\n",
    "hottest_year = max(avg_temps, key=avg_temps.get)\n",
    "coolest_year = min(avg_temps, key=avg_temps.get)\n",
    "\n",
    "print(f\"Coolest Year: {hottest_year} with Min Temp: {df['Temperature'].min()}°C\")\n",
    "print(f\"Hottest Year: {coolest_year} with Max Temp: {df['Temperature'].max()}°C\")\n"
   ]
  }
 ],
 "metadata": {
  "kernelspec": {
   "display_name": "Python 3",
   "language": "python",
   "name": "python3"
  },
  "language_info": {
   "codemirror_mode": {
    "name": "ipython",
    "version": 3
   },
   "file_extension": ".py",
   "mimetype": "text/x-python",
   "name": "python",
   "nbconvert_exporter": "python",
   "pygments_lexer": "ipython3",
   "version": "3.12.4"
  }
 },
 "nbformat": 4,
 "nbformat_minor": 5
}
